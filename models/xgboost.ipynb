{
 "cells": [
  {
   "cell_type": "code",
   "execution_count": 48,
   "metadata": {},
   "outputs": [],
   "source": [
    "import xgboost as xgb\n",
    "from sklearn.model_selection import train_test_split\n",
    "from sklearn.metrics import mean_squared_error\n",
    "import pandas as pd\n",
    "from scipy.sparse import csr_matrix"
   ]
  },
  {
   "cell_type": "code",
   "execution_count": 49,
   "metadata": {},
   "outputs": [
    {
     "name": "stdout",
     "output_type": "stream",
     "text": [
      "fit                 object\n",
      "user_id              int64\n",
      "bust size           object\n",
      "item_id              int64\n",
      "weight             float64\n",
      "rating               int64\n",
      "rented for          object\n",
      "review_text         object\n",
      "body type           object\n",
      "review_summary      object\n",
      "category            object\n",
      "height             float64\n",
      "size                 int64\n",
      "age                float64\n",
      "review_date         object\n",
      "review_length        int64\n",
      "band_size          float64\n",
      "cup_size            object\n",
      "item_rent_count      int64\n",
      "dtype: object\n"
     ]
    }
   ],
   "source": [
    "# Import csv to df\n",
    "df = pd.read_csv(\"../data/renttherunway_cleaned_data.csv\")\n",
    "\n",
    "print(df.dtypes)"
   ]
  },
  {
   "cell_type": "code",
   "execution_count": 50,
   "metadata": {},
   "outputs": [
    {
     "name": "stdout",
     "output_type": "stream",
     "text": [
      "Mean Squared Error: 1.829081701297055\n"
     ]
    }
   ],
   "source": [
    "\n",
    "def train_and_predict_xgboost(df):\n",
    "    df = df.drop(['user_id', 'item_id', 'review_date', 'review_summary', 'review_text'], axis=1)\n",
    "\n",
    "    categorical_features = ['fit', 'bust size', 'rented for', 'body type', 'category', 'cup_size']\n",
    "    df = pd.get_dummies(df, columns=categorical_features)\n",
    "\n",
    "    # Assuming 'ratings' is the target column, and you have other features as well.\n",
    "    X = df.drop('rating', axis=1)\n",
    "    y = df['rating']\n",
    "\n",
    "    # Split the dataset into training and testing sets.\n",
    "    X_train, X_test, y_train, y_test = train_test_split(X, y, test_size=0.2, random_state=42)\n",
    "\n",
    "    # Create an XGBoost regressor model.\n",
    "    xgb_model = xgb.XGBRegressor(objective='reg:squarederror', random_state=42)\n",
    "\n",
    "    # Train the model on the training data.\n",
    "    xgb_model.fit(X_train, y_train)\n",
    "\n",
    "    # Make predictions on the test data.\n",
    "    y_pred = xgb_model.predict(X_test)\n",
    "\n",
    "    # Calculate the mean squared error to evaluate the model's performance.\n",
    "    mse = mean_squared_error(y_test, y_pred)\n",
    "\n",
    "    return xgb_model, mse\n",
    "\n",
    "# Usage:\n",
    "# Assuming 'your_dataframe' is your dataset.\n",
    "trained_model, mse_score = train_and_predict_xgboost(df)\n",
    "print(\"Mean Squared Error:\", mse_score)\n"
   ]
  },
  {
   "cell_type": "code",
   "execution_count": 51,
   "metadata": {},
   "outputs": [
    {
     "name": "stdout",
     "output_type": "stream",
     "text": [
      "Mean Squared Error: 1.8179605314858187\n",
      "R-squared: 0.1040232495518475\n"
     ]
    }
   ],
   "source": [
    "from xgboost import XGBRegressor\n",
    "from sklearn.model_selection import train_test_split, GridSearchCV\n",
    "from sklearn.metrics import mean_squared_error, r2_score\n",
    "\n",
    "def train_and_predict_xgboost(df):\n",
    "    # Drop unnecessary columns\n",
    "    df = df.drop(['user_id', 'item_id', 'review_date', 'review_summary', 'review_text'], axis=1)\n",
    "\n",
    "    # Define categorical features\n",
    "    categorical_features = ['fit', 'bust size', 'rented for', 'body type', 'category', 'cup_size']\n",
    "\n",
    "    # One-hot encode categorical features\n",
    "    df = pd.get_dummies(df, columns=categorical_features)\n",
    "\n",
    "    # Assuming 'ratings' is the target column, and you have other features as well.\n",
    "    X = df.drop('rating', axis=1)\n",
    "    y = df['rating']\n",
    "\n",
    "    # Split the dataset into training and testing sets.\n",
    "    X_train, X_test, y_train, y_test = train_test_split(X, y, test_size=0.2, random_state=42)\n",
    "\n",
    "    # Create an XGBoost regressor model.\n",
    "    xgb_model = XGBRegressor(\n",
    "        objective='reg:squarederror',\n",
    "        random_state=42,\n",
    "        n_estimators=1000,  # Increase the number of estimators\n",
    "        learning_rate=0.05,  # Adjust learning rate\n",
    "        max_depth=5,  # Tune the maximum depth of trees\n",
    "        subsample=0.8,  # Use subsampling for regularization\n",
    "        colsample_bytree=0.8,  # Feature subsampling\n",
    "        reg_alpha=0.01,  # L1 regularization\n",
    "        reg_lambda=0.1,  # L2 regularization\n",
    "    )\n",
    "\n",
    "    # Perform hyperparameter tuning with cross-validation\n",
    "    param_grid = {\n",
    "        'n_estimators': [100, 500, 1000],\n",
    "        'max_depth': [3, 5, 7],\n",
    "    }\n",
    "    grid_search = GridSearchCV(estimator=xgb_model, param_grid=param_grid, scoring='neg_mean_squared_error', cv=3)\n",
    "    grid_search.fit(X_train, y_train)\n",
    "    best_xgb_model = grid_search.best_estimator_\n",
    "\n",
    "    # Train the best model on the training data\n",
    "    best_xgb_model.fit(X_train, y_train)\n",
    "\n",
    "    # Make predictions on the test data\n",
    "    y_pred = best_xgb_model.predict(X_test)\n",
    "\n",
    "    # Calculate mean squared error and R-squared\n",
    "    mse = mean_squared_error(y_test, y_pred)\n",
    "    r2 = r2_score(y_test, y_pred)\n",
    "\n",
    "    return best_xgb_model, mse, r2\n",
    "\n",
    "# Usage:\n",
    "# Assuming 'your_dataframe' is your dataset.\n",
    "trained_model, mse_score, r2_score = train_and_predict_xgboost(df)\n",
    "print(\"Mean Squared Error:\", mse_score)\n",
    "print(\"R-squared:\", r2_score)\n"
   ]
  },
  {
   "cell_type": "code",
   "execution_count": null,
   "metadata": {},
   "outputs": [],
   "source": []
  }
 ],
 "metadata": {
  "kernelspec": {
   "display_name": "Python 3",
   "language": "python",
   "name": "python3"
  },
  "language_info": {
   "codemirror_mode": {
    "name": "ipython",
    "version": 3
   },
   "file_extension": ".py",
   "mimetype": "text/x-python",
   "name": "python",
   "nbconvert_exporter": "python",
   "pygments_lexer": "ipython3",
   "version": "3.10.11"
  }
 },
 "nbformat": 4,
 "nbformat_minor": 2
}
