{
 "cells": [
  {
   "cell_type": "code",
   "execution_count": 11,
   "metadata": {},
   "outputs": [],
   "source": [
    "import pandas as pd\n",
    "import json\n",
    "import numpy as np\n",
    "import matplotlib.pyplot as plt\n",
    "import sys\n",
    "sys.path.insert(0, '../utils')\n",
    "import utils"
   ]
  },
  {
   "cell_type": "code",
   "execution_count": 12,
   "metadata": {},
   "outputs": [],
   "source": [
    "# Function to convert JSON file to DataFrame\n",
    "def json_to_dataframe(file_path):\n",
    "    # Initialize an empty list to store the JSON objects\n",
    "    data = []\n",
    "\n",
    "    # Open and read the file\n",
    "    with open(file_path, 'r') as file:\n",
    "        for line in file:\n",
    "            # Parse each line (which is a valid JSON string) and append to the list\n",
    "            data.append(json.loads(line))\n",
    "    \n",
    "    # Convert the list of dictionaries to a DataFrame\n",
    "    df = pd.DataFrame(data)\n",
    "\n",
    "    return df"
   ]
  },
  {
   "cell_type": "code",
   "execution_count": 13,
   "metadata": {},
   "outputs": [],
   "source": [
    "\n",
    "def clean_data(df):\n",
    "    # Drop rows where rating is missing\n",
    "    df = df.dropna(subset=['rating'])\n",
    "\n",
    "    # Convert user_id and item_id to strings\n",
    "    df['user_id'] = df['user_id'].astype(str)\n",
    "    df['item_id'] = df['item_id'].astype(str)\n",
    "\n",
    "    # Convert rating, age, and size to numeric (float or int)\n",
    "    df['rating'] = pd.to_numeric(df['rating'], errors='coerce')\n",
    "    df['age'] = pd.to_numeric(df['age'], errors='coerce')\n",
    "    df['size'] = pd.to_numeric(df['size'], errors='coerce')\n",
    "    df['weight'] = pd.to_numeric(df['weight'].str.replace('lbs', ''), errors='coerce')\n",
    "\n",
    "    # Convert review_date to datetime\n",
    "    df['review_date'] = pd.to_datetime(df['review_date'], errors='coerce')\n",
    "\n",
    "    # Add column for review_length\n",
    "    df['review_length'] = df['review_text'].str.len()\n",
    "\n",
    "    # Convert height to inches\n",
    "    def convert_height_to_inches(height):\n",
    "        if pd.isna(height):\n",
    "            return None\n",
    "        try:\n",
    "            feet, inches = height.split(\"'\")\n",
    "            inches = inches.replace('\"', '') \n",
    "            return int(feet) * 12 + int(inches)\n",
    "        except:\n",
    "            return None\n",
    "        \n",
    "    df['height'] = df['height'].apply(convert_height_to_inches)\n",
    "\n",
    "    # Function to extract band size and cup size from bust size\n",
    "    def extract_bust_components(bust_size):\n",
    "        if pd.isna(bust_size):\n",
    "            return None, None\n",
    "        try:\n",
    "            band_size = int(''.join(filter(str.isdigit, bust_size)))\n",
    "            cup_size = ''.join(filter(str.isalpha, bust_size)).upper()\n",
    "            return band_size, cup_size\n",
    "        except:\n",
    "            return None, None\n",
    "\n",
    "    # Apply the extraction function to bust size\n",
    "    df[['band_size', 'cup_size']] = df.apply(lambda row: extract_bust_components(row['bust size']), axis=1, result_type='expand')\n",
    "\n",
    "    return df"
   ]
  },
  {
   "cell_type": "code",
   "execution_count": 14,
   "metadata": {},
   "outputs": [],
   "source": [
    "file_path = '../data/renttherunway_final_data.json'\n",
    "\n",
    "# Read in original data\n",
    "df = json_to_dataframe(file_path)"
   ]
  },
  {
   "cell_type": "code",
   "execution_count": 15,
   "metadata": {},
   "outputs": [
    {
     "name": "stderr",
     "output_type": "stream",
     "text": [
      "C:\\Users\\mcgin\\AppData\\Local\\Temp\\ipykernel_9432\\915577340.py:6: SettingWithCopyWarning: \n",
      "A value is trying to be set on a copy of a slice from a DataFrame.\n",
      "Try using .loc[row_indexer,col_indexer] = value instead\n",
      "\n",
      "See the caveats in the documentation: https://pandas.pydata.org/pandas-docs/stable/user_guide/indexing.html#returning-a-view-versus-a-copy\n",
      "  df['user_id'] = df['user_id'].astype(str)\n",
      "C:\\Users\\mcgin\\AppData\\Local\\Temp\\ipykernel_9432\\915577340.py:7: SettingWithCopyWarning: \n",
      "A value is trying to be set on a copy of a slice from a DataFrame.\n",
      "Try using .loc[row_indexer,col_indexer] = value instead\n",
      "\n",
      "See the caveats in the documentation: https://pandas.pydata.org/pandas-docs/stable/user_guide/indexing.html#returning-a-view-versus-a-copy\n",
      "  df['item_id'] = df['item_id'].astype(str)\n",
      "C:\\Users\\mcgin\\AppData\\Local\\Temp\\ipykernel_9432\\915577340.py:10: SettingWithCopyWarning: \n",
      "A value is trying to be set on a copy of a slice from a DataFrame.\n",
      "Try using .loc[row_indexer,col_indexer] = value instead\n",
      "\n",
      "See the caveats in the documentation: https://pandas.pydata.org/pandas-docs/stable/user_guide/indexing.html#returning-a-view-versus-a-copy\n",
      "  df['rating'] = pd.to_numeric(df['rating'], errors='coerce')\n",
      "C:\\Users\\mcgin\\AppData\\Local\\Temp\\ipykernel_9432\\915577340.py:11: SettingWithCopyWarning: \n",
      "A value is trying to be set on a copy of a slice from a DataFrame.\n",
      "Try using .loc[row_indexer,col_indexer] = value instead\n",
      "\n",
      "See the caveats in the documentation: https://pandas.pydata.org/pandas-docs/stable/user_guide/indexing.html#returning-a-view-versus-a-copy\n",
      "  df['age'] = pd.to_numeric(df['age'], errors='coerce')\n",
      "C:\\Users\\mcgin\\AppData\\Local\\Temp\\ipykernel_9432\\915577340.py:12: SettingWithCopyWarning: \n",
      "A value is trying to be set on a copy of a slice from a DataFrame.\n",
      "Try using .loc[row_indexer,col_indexer] = value instead\n",
      "\n",
      "See the caveats in the documentation: https://pandas.pydata.org/pandas-docs/stable/user_guide/indexing.html#returning-a-view-versus-a-copy\n",
      "  df['size'] = pd.to_numeric(df['size'], errors='coerce')\n",
      "C:\\Users\\mcgin\\AppData\\Local\\Temp\\ipykernel_9432\\915577340.py:13: SettingWithCopyWarning: \n",
      "A value is trying to be set on a copy of a slice from a DataFrame.\n",
      "Try using .loc[row_indexer,col_indexer] = value instead\n",
      "\n",
      "See the caveats in the documentation: https://pandas.pydata.org/pandas-docs/stable/user_guide/indexing.html#returning-a-view-versus-a-copy\n",
      "  df['weight'] = pd.to_numeric(df['weight'].str.replace('lbs', ''), errors='coerce')\n",
      "C:\\Users\\mcgin\\AppData\\Local\\Temp\\ipykernel_9432\\915577340.py:16: SettingWithCopyWarning: \n",
      "A value is trying to be set on a copy of a slice from a DataFrame.\n",
      "Try using .loc[row_indexer,col_indexer] = value instead\n",
      "\n",
      "See the caveats in the documentation: https://pandas.pydata.org/pandas-docs/stable/user_guide/indexing.html#returning-a-view-versus-a-copy\n",
      "  df['review_date'] = pd.to_datetime(df['review_date'], errors='coerce')\n",
      "C:\\Users\\mcgin\\AppData\\Local\\Temp\\ipykernel_9432\\915577340.py:19: SettingWithCopyWarning: \n",
      "A value is trying to be set on a copy of a slice from a DataFrame.\n",
      "Try using .loc[row_indexer,col_indexer] = value instead\n",
      "\n",
      "See the caveats in the documentation: https://pandas.pydata.org/pandas-docs/stable/user_guide/indexing.html#returning-a-view-versus-a-copy\n",
      "  df['review_length'] = df['review_text'].str.len()\n",
      "C:\\Users\\mcgin\\AppData\\Local\\Temp\\ipykernel_9432\\915577340.py:32: SettingWithCopyWarning: \n",
      "A value is trying to be set on a copy of a slice from a DataFrame.\n",
      "Try using .loc[row_indexer,col_indexer] = value instead\n",
      "\n",
      "See the caveats in the documentation: https://pandas.pydata.org/pandas-docs/stable/user_guide/indexing.html#returning-a-view-versus-a-copy\n",
      "  df['height'] = df['height'].apply(convert_height_to_inches)\n",
      "C:\\Users\\mcgin\\AppData\\Local\\Temp\\ipykernel_9432\\915577340.py:46: SettingWithCopyWarning: \n",
      "A value is trying to be set on a copy of a slice from a DataFrame.\n",
      "Try using .loc[row_indexer,col_indexer] = value instead\n",
      "\n",
      "See the caveats in the documentation: https://pandas.pydata.org/pandas-docs/stable/user_guide/indexing.html#returning-a-view-versus-a-copy\n",
      "  df[['band_size', 'cup_size']] = df.apply(lambda row: extract_bust_components(row['bust size']), axis=1, result_type='expand')\n",
      "C:\\Users\\mcgin\\AppData\\Local\\Temp\\ipykernel_9432\\915577340.py:46: SettingWithCopyWarning: \n",
      "A value is trying to be set on a copy of a slice from a DataFrame.\n",
      "Try using .loc[row_indexer,col_indexer] = value instead\n",
      "\n",
      "See the caveats in the documentation: https://pandas.pydata.org/pandas-docs/stable/user_guide/indexing.html#returning-a-view-versus-a-copy\n",
      "  df[['band_size', 'cup_size']] = df.apply(lambda row: extract_bust_components(row['bust size']), axis=1, result_type='expand')\n"
     ]
    }
   ],
   "source": [
    "df = clean_data(df)\n",
    "\n",
    "# Shuffle\n",
    "df = df.sample(frac=1).reset_index(drop=True)"
   ]
  },
  {
   "cell_type": "code",
   "execution_count": 16,
   "metadata": {},
   "outputs": [
    {
     "name": "stdout",
     "output_type": "stream",
     "text": [
      "   fit user_id bust size  item_id  weight  rating     rented for   \n",
      "0  fit  875044       32c  2195317   118.0      10           work  \\\n",
      "1  fit   78963       34d  1266469   140.0      10  formal affair   \n",
      "2  fit  460284       34b   682043   138.0       8          party   \n",
      "3  fit  717584       36d  1730006   150.0       8          party   \n",
      "4  fit  269726       36c  1904556   138.0      10       everyday   \n",
      "\n",
      "                                         review_text          body type   \n",
      "0  Fit well and looked good with jeans and riding...             petite  \\\n",
      "1  This was a beautiful dress that I rented it to...          full bust   \n",
      "2  At 5\"11\", I was worried that this dress would ...  straight & narrow   \n",
      "3  Very flattering, got tons of compliments. The ...          hourglass   \n",
      "4  Perfect fit 5'7\" . The dress was so pretty I r...           athletic   \n",
      "\n",
      "                                      review_summary category  height  size   \n",
      "0  A chic look that kept the Scottish chill at ba...  sweater    64.0     4  \\\n",
      "1                  Simple, elegant and comfortable.      gown    69.0     8   \n",
      "2                      Cute dress! Many compliments!    dress    71.0    12   \n",
      "3  Perfect shower dress. Made me feel like a very...    dress    67.0    16   \n",
      "4           Very pretty and perfect for summertime!     dress    67.0    14   \n",
      "\n",
      "    age review_date  review_length  band_size cup_size  item_rent_count  \n",
      "0  45.0  2017-03-22            142       32.0        C               17  \n",
      "1  43.0  2017-11-24           1306       34.0        D                5  \n",
      "2  42.0  2017-02-12            464       34.0        B               68  \n",
      "3  31.0  2016-05-18            420       36.0        D              214  \n",
      "4  54.0  2016-06-15            394       36.0        C               36  \n"
     ]
    }
   ],
   "source": [
    "# Create popularity column, which is the number of times an item has been rented\n",
    "df['item_rent_count'] = df.groupby('item_id')['item_id'].transform('count')\n",
    "\n",
    "print(df.head(5))"
   ]
  },
  {
   "cell_type": "code",
   "execution_count": 17,
   "metadata": {},
   "outputs": [
    {
     "name": "stdout",
     "output_type": "stream",
     "text": [
      "fit                        object\n",
      "user_id                    object\n",
      "bust size                  object\n",
      "item_id                    object\n",
      "weight                    float64\n",
      "rating                      int64\n",
      "rented for                 object\n",
      "review_text                object\n",
      "body type                  object\n",
      "review_summary             object\n",
      "category                   object\n",
      "height                    float64\n",
      "size                        int64\n",
      "age                       float64\n",
      "review_date        datetime64[ns]\n",
      "review_length               int64\n",
      "band_size                 float64\n",
      "cup_size                   object\n",
      "item_rent_count             int64\n",
      "dtype: object\n"
     ]
    }
   ],
   "source": [
    "print(df.dtypes)"
   ]
  },
  {
   "cell_type": "code",
   "execution_count": 18,
   "metadata": {},
   "outputs": [],
   "source": [
    "# Write df to csv\n",
    "df.to_csv('../data/renttherunway_cleaned_data.csv', index=False)"
   ]
  },
  {
   "cell_type": "code",
   "execution_count": null,
   "metadata": {},
   "outputs": [],
   "source": []
  }
 ],
 "metadata": {
  "kernelspec": {
   "display_name": "Python 3",
   "language": "python",
   "name": "python3"
  },
  "language_info": {
   "codemirror_mode": {
    "name": "ipython",
    "version": 3
   },
   "file_extension": ".py",
   "mimetype": "text/x-python",
   "name": "python",
   "nbconvert_exporter": "python",
   "pygments_lexer": "ipython3",
   "version": "3.10.11"
  }
 },
 "nbformat": 4,
 "nbformat_minor": 2
}
