{
 "cells": [
  {
   "cell_type": "code",
   "execution_count": 7,
   "metadata": {},
   "outputs": [],
   "source": [
    "import pandas as pd\n",
    "import json\n",
    "import numpy as np\n",
    "import matplotlib.pyplot as plt\n",
    "import sys\n",
    "sys.path.insert(0, '../utils')\n",
    "import utils"
   ]
  },
  {
   "cell_type": "code",
   "execution_count": 8,
   "metadata": {},
   "outputs": [],
   "source": [
    "# Function to convert JSON file to DataFrame\n",
    "def json_to_dataframe(file_path):\n",
    "    # Initialize an empty list to store the JSON objects\n",
    "    data = []\n",
    "\n",
    "    # Open and read the file\n",
    "    with open(file_path, 'r') as file:\n",
    "        for line in file:\n",
    "            # Parse each line (which is a valid JSON string) and append to the list\n",
    "            data.append(json.loads(line))\n",
    "    \n",
    "    # Convert the list of dictionaries to a DataFrame\n",
    "    df = pd.DataFrame(data)\n",
    "\n",
    "    return df"
   ]
  },
  {
   "cell_type": "code",
   "execution_count": 9,
   "metadata": {},
   "outputs": [],
   "source": [
    "\n",
    "def clean_data(df):\n",
    "    # Drop rows where rating is missing\n",
    "    df = df.dropna(subset=['rating'])\n",
    "\n",
    "    # Convert user_id and item_id to strings\n",
    "    df['user_id'] = df['user_id'].astype(str)\n",
    "    df['item_id'] = df['item_id'].astype(str)\n",
    "\n",
    "    # Convert rating, age, and size to numeric (float or int)\n",
    "    df['rating'] = pd.to_numeric(df['rating'], errors='coerce')\n",
    "    df['age'] = pd.to_numeric(df['age'], errors='coerce')\n",
    "    df['size'] = pd.to_numeric(df['size'], errors='coerce')\n",
    "    df['weight'] = pd.to_numeric(df['weight'].str.replace('lbs', ''), errors='coerce')\n",
    "\n",
    "    # Convert review_date to datetime\n",
    "    df['review_date'] = pd.to_datetime(df['review_date'], errors='coerce')\n",
    "\n",
    "    # Add column for review_length\n",
    "    df['review_length'] = df['review_text'].str.len()\n",
    "\n",
    "    # Convert height to inches\n",
    "    def convert_height_to_inches(height):\n",
    "        if pd.isna(height):\n",
    "            return None\n",
    "        try:\n",
    "            feet, inches = height.split(\"'\")\n",
    "            inches = inches.replace('\"', '') \n",
    "            return int(feet) * 12 + int(inches)\n",
    "        except:\n",
    "            return None\n",
    "        \n",
    "    df['height'] = df['height'].apply(convert_height_to_inches)\n",
    "\n",
    "    # Function to extract band size and cup size from bust size\n",
    "    def extract_bust_components(bust_size):\n",
    "        if pd.isna(bust_size):\n",
    "            return None, None\n",
    "        try:\n",
    "            band_size = int(''.join(filter(str.isdigit, bust_size)))\n",
    "            cup_size = ''.join(filter(str.isalpha, bust_size)).upper()\n",
    "            return band_size, cup_size\n",
    "        except:\n",
    "            return None, None\n",
    "\n",
    "    # Apply the extraction function to bust size\n",
    "    df[['band_size', 'cup_size']] = df.apply(lambda row: extract_bust_components(row['bust size']), axis=1, result_type='expand')\n",
    "\n",
    "    return df"
   ]
  },
  {
   "cell_type": "code",
   "execution_count": 10,
   "metadata": {},
   "outputs": [],
   "source": [
    "file_path = '../data/renttherunway_final_data.json'\n",
    "\n",
    "# Read in original data\n",
    "df = json_to_dataframe(file_path)"
   ]
  },
  {
   "cell_type": "code",
   "execution_count": 1,
   "metadata": {},
   "outputs": [
    {
     "ename": "NameError",
     "evalue": "name 'clean_data' is not defined",
     "output_type": "error",
     "traceback": [
      "\u001b[1;31m---------------------------------------------------------------------------\u001b[0m",
      "\u001b[1;31mNameError\u001b[0m                                 Traceback (most recent call last)",
      "\u001b[1;32mc:\\Users\\mcgin\\My Drive\\School\\UCSD\\Courses\\Fall 2023\\CSE 258\\Assignment2\\data\\clean_data.ipynb Cell 5\u001b[0m line \u001b[0;36m1\n\u001b[1;32m----> <a href='vscode-notebook-cell:/c%3A/Users/mcgin/My%20Drive/School/UCSD/Courses/Fall%202023/CSE%20258/Assignment2/data/clean_data.ipynb#W4sZmlsZQ%3D%3D?line=0'>1</a>\u001b[0m df \u001b[39m=\u001b[39m clean_data(df)\n",
      "\u001b[1;31mNameError\u001b[0m: name 'clean_data' is not defined"
     ]
    }
   ],
   "source": [
    "df = clean_data(df)\n",
    "\n",
    "# Shuffle\n",
    "df = df.sample(frac=1).reset_index(drop=True)"
   ]
  },
  {
   "cell_type": "code",
   "execution_count": 12,
   "metadata": {},
   "outputs": [
    {
     "name": "stdout",
     "output_type": "stream",
     "text": [
      "fit                       object\n",
      "user_id                   object\n",
      "bust size                 object\n",
      "item_id                   object\n",
      "weight                   float64\n",
      "rating                   float64\n",
      "rented for                object\n",
      "review_text               object\n",
      "body type                 object\n",
      "review_summary            object\n",
      "category                  object\n",
      "height                   float64\n",
      "size                       int64\n",
      "age                      float64\n",
      "review_date       datetime64[ns]\n",
      "review_length              int64\n",
      "band_size                float64\n",
      "cup_size                  object\n",
      "dtype: object\n"
     ]
    }
   ],
   "source": [
    "print(df.dtypes)"
   ]
  },
  {
   "cell_type": "code",
   "execution_count": 13,
   "metadata": {},
   "outputs": [],
   "source": [
    "# Write df to csv\n",
    "df.to_csv('../data/renttherunway_cleaned_data.csv', index=False)"
   ]
  }
 ],
 "metadata": {
  "kernelspec": {
   "display_name": "Python 3",
   "language": "python",
   "name": "python3"
  },
  "language_info": {
   "codemirror_mode": {
    "name": "ipython",
    "version": 3
   },
   "file_extension": ".py",
   "mimetype": "text/x-python",
   "name": "python",
   "nbconvert_exporter": "python",
   "pygments_lexer": "ipython3",
   "version": "3.10.11"
  }
 },
 "nbformat": 4,
 "nbformat_minor": 2
}
